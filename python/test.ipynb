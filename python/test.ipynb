{
 "cells": [
  {
   "cell_type": "markdown",
   "id": "fefca8d3",
   "metadata": {},
   "source": [
    "## This notebook tests the ability to use the aff package"
   ]
  },
  {
   "cell_type": "code",
   "execution_count": 1,
   "id": "c139aa46",
   "metadata": {},
   "outputs": [],
   "source": [
    "import aff"
   ]
  },
  {
   "cell_type": "code",
   "execution_count": 2,
   "id": "f1f604b1",
   "metadata": {},
   "outputs": [
    {
     "data": {
      "text/plain": [
       "<module 'aff' from '/itphome/juan/miniconda3/envs/affpy/lib/python3.11/site-packages/aff.cpython-311-x86_64-linux-gnu.so'>"
      ]
     },
     "execution_count": 2,
     "metadata": {},
     "output_type": "execute_result"
    }
   ],
   "source": [
    "aff"
   ]
  },
  {
   "cell_type": "code",
   "execution_count": 3,
   "id": "cd4b230e",
   "metadata": {},
   "outputs": [
    {
     "data": {
      "text/plain": [
       "'XXX Version 3.0.0x $Id$'"
      ]
     },
     "execution_count": 3,
     "metadata": {},
     "output_type": "execute_result"
    }
   ],
   "source": [
    "aff.version()"
   ]
  },
  {
   "cell_type": "code",
   "execution_count": null,
   "id": "f7d14917",
   "metadata": {},
   "outputs": [],
   "source": [
    "\n"
   ]
  }
 ],
 "metadata": {
  "kernelspec": {
   "display_name": "affpy",
   "language": "python",
   "name": "python3"
  },
  "language_info": {
   "codemirror_mode": {
    "name": "ipython",
    "version": 3
   },
   "file_extension": ".py",
   "mimetype": "text/x-python",
   "name": "python",
   "nbconvert_exporter": "python",
   "pygments_lexer": "ipython3",
   "version": "3.11.13"
  }
 },
 "nbformat": 4,
 "nbformat_minor": 5
}
